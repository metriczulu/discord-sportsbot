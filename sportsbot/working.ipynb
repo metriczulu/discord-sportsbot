{
 "metadata": {
  "language_info": {
   "codemirror_mode": {
    "name": "ipython",
    "version": 3
   },
   "file_extension": ".py",
   "mimetype": "text/x-python",
   "name": "python",
   "nbconvert_exporter": "python",
   "pygments_lexer": "ipython3",
   "version": "3.8.6-final"
  },
  "orig_nbformat": 2,
  "kernelspec": {
   "name": "python38664bit8ff440f9ac8b4c1da0f03a36824d6b34",
   "display_name": "Python 3.8.6 64-bit",
   "language": "python"
  }
 },
 "nbformat": 4,
 "nbformat_minor": 2,
 "cells": [
  {
   "cell_type": "code",
   "execution_count": 15,
   "metadata": {},
   "outputs": [],
   "source": [
    "from sportsreference.nfl.teams import Teams\n",
    "import pandas as pd\n",
    "\n",
    "# read TheLibrarians Discord token\n",
    "def load_token(token_file='./token'):\n",
    "    with open(token_file, \"r\") as file:\n",
    "        token = file.read()\n",
    "        return token\n",
    "\n",
    "def columnize(l, cols=3):\n",
    "    tracker = dict()\n",
    "    for ndx, s in enumerate(l):\n",
    "        cur_s = tracker.get(ndx % cols, len(s))\n",
    "        if len(s) > cur_s:\n",
    "            tracker[ndx % cols] = len(s)\n",
    "        else:\n",
    "            tracker[ndx % cols] = cur_s\n",
    "    return tracker\n",
    "\n",
    "def cprint(string_list, cols=2, sep=\"  \"):\n",
    "    '''\n",
    "    Function to print long lists more compactly.\n",
    "    Uncomment the comments to have it print perfect columns in terminal.\n",
    "    Unfortunately doesn't translate to Discord.\n",
    "\n",
    "    ::string_list List[Str]:: list of strings\n",
    "    ::cols Int:: number of columns to break up\n",
    "    ::spaces Int:: number of spaces to add between words\n",
    "    \n",
    "    Returns: [Str]\n",
    "    '''\n",
    "    max_length = columnize(string_list, cols=cols)\n",
    "    s = f\"```{str(string_list[0]).ljust(max_length[0])}\"\n",
    "    for ndx, site in enumerate(string_list[1:]):\n",
    "        column = (ndx + 1) % cols\n",
    "        if column == 0:\n",
    "            s += f\"\\n{site.ljust(max_length[0])}\"\n",
    "        else:\n",
    "            s += f\"{sep}{site.ljust(max_length[column])}\"\n",
    "    return s + \"```\"\n",
    "\n",
    "def cprint_df(df):\n",
    "    '''\n",
    "    Similar to cprint above but takes a Pandas dataframe and returns a string to print the dataframe in Discord\n",
    "\n",
    "    ::df pandas.DataFrame:: Pandas dataframe to print in Discord chat\n",
    "    '''\n",
    "    df_list = list(df.columns)\n",
    "    num_cols = len(df_list)\n",
    "    for row in df.to_numpy():\n",
    "        df_list += list(row)\n",
    "    df_no_nulls = list(map(str, map(remove_none_games, df_list)))\n",
    "    return cprint(df_no_nulls, num_cols)\n",
    "\n",
    "nfl_map = {\"Tennessee Titans\": \"OTI\",\"Kansas City Chiefs\": \"KAN\",\"Green Bay Packers\": \"GNB\",\"Seattle Seahawks\": \"SEA\",\"Buffalo Bills\": \"BUF\",\n",
    "            \"Baltimore Ravens\": \"RAV\",\"Tampa Bay Buccaneers\": \"TAM\",\"Indianapolis Colts\": \"CLT\",\"New Orleans Saints\": \"NOR\",\"Arizona Cardinals\": \"CRD\",\n",
    "            \"Las Vegas Raiders\": \"RAI\",\"Cleveland Browns\": \"CLE\",\"Pittsburgh Steelers\": \"PIT\",\"Minnesota Vikings\": \"MIN\",\"Atlanta Falcons\": \"ATL\",\n",
    "            \"Miami Dolphins\": \"MIA\",\"Los Angeles Rams\": \"RAM\",\"Dallas Cowboys\": \"DAL\",\"Detroit Lions\": \"DET\",\"San Francisco 49ers\": \"SFO\",\n",
    "            \"Los Angeles Chargers\": \"SDG\",\"Carolina Panthers\": \"CAR\",\"Houston Texans\": \"HTX\",\"Chicago Bears\": \"CHI\",\"Philadelphia Eagles\": \"PHI\",\n",
    "            \"Washington Football Team\": \"WAS\",\"New England Patriots\": \"NWE\",\"Denver Broncos\": \"DEN\",\"Jacksonville Jaguars\": \"JAX\",\"Cincinnati Bengals\": \n",
    "            \"CIN\",\"New York Giants\": \"NYG\",\"New York Jets\": \"NYJ\"}\n",
    "\n",
    "def team_code(team_name, name_map=nfl_map):\n",
    "    '''\n",
    "    Retrieves the proper lookup code for the team searched for\n",
    "\n",
    "    ::team_name Str:: location or name of team\n",
    "    ::name_map Dict:: Dictionary mapping to lookup codes\n",
    "    '''\n",
    "    for team in name_map:\n",
    "        if team_name.lower() in team.lower():\n",
    "            return name_map[team]\n",
    "\n",
    "def team_search(team_code):\n",
    "    teams = Teams()\n",
    "    return teams(team_code)\n",
    "\n",
    "return_team = lambda team_name, name_map=nfl_map: team_search(team_code(team_name, name_map))\n",
    "\n",
    "# simple function to replace Nones in list with 'Future game'\n",
    "remove_none_games = lambda s: s if s is not None else 'Future game'\n",
    "\n",
    "def team_schedule(team_name, name_map=nfl_map):\n",
    "    '''\n",
    "    Returns formatted table showing a team's yearly schedule and wins/losses\n",
    "\n",
    "    ::team_name Str:: Team to lookup\n",
    "    ::name_map Dict:: Dictionary mapping to lookup codes\n",
    "    '''\n",
    "    try:\n",
    "        schedule = team_search(team_code(team_name, name_map)).schedule.dataframe[['date', 'location', 'opponent_name', 'result']]\n",
    "        schedule = schedule.rename(columns={'date': 'Date', 'location': 'Location', 'opponent_name': 'Opponent', 'result': 'Result'})\n",
    "    except AttributeError:\n",
    "        return \"**Not a valid team**\"\n",
    "    return cprint_df(schedule)\n",
    "\n",
    "def extract_leaderboard_row(team):\n",
    "    pass"
   ]
  },
  {
   "cell_type": "code",
   "execution_count": 16,
   "metadata": {},
   "outputs": [],
   "source": [
    "ravens = return_team('ravens').dataframe[['name', 'rank', 'wins', 'losses', 'win_percentage', 'games_played']]\n",
    "reds = return_team('washington').dataframe[['name', 'rank', 'wins', 'losses', 'win_percentage', 'games_played']]"
   ]
  },
  {
   "cell_type": "code",
   "execution_count": 17,
   "metadata": {},
   "outputs": [],
   "source": [
    "board = pd.concat([ravens, reds])"
   ]
  },
  {
   "cell_type": "code",
   "execution_count": 18,
   "metadata": {},
   "outputs": [
    {
     "output_type": "execute_result",
     "data": {
      "text/plain": [
       "                         name  rank  wins  losses  win_percentage  games_played\n",
       "RAV          Baltimore Ravens     6     9       5           0.643            14\n",
       "WAS  Washington Football Team    26     6       8           0.429            14"
      ],
      "text/html": "<div>\n<style scoped>\n    .dataframe tbody tr th:only-of-type {\n        vertical-align: middle;\n    }\n\n    .dataframe tbody tr th {\n        vertical-align: top;\n    }\n\n    .dataframe thead th {\n        text-align: right;\n    }\n</style>\n<table border=\"1\" class=\"dataframe\">\n  <thead>\n    <tr style=\"text-align: right;\">\n      <th></th>\n      <th>name</th>\n      <th>rank</th>\n      <th>wins</th>\n      <th>losses</th>\n      <th>win_percentage</th>\n      <th>games_played</th>\n    </tr>\n  </thead>\n  <tbody>\n    <tr>\n      <th>RAV</th>\n      <td>Baltimore Ravens</td>\n      <td>6</td>\n      <td>9</td>\n      <td>5</td>\n      <td>0.643</td>\n      <td>14</td>\n    </tr>\n    <tr>\n      <th>WAS</th>\n      <td>Washington Football Team</td>\n      <td>26</td>\n      <td>6</td>\n      <td>8</td>\n      <td>0.429</td>\n      <td>14</td>\n    </tr>\n  </tbody>\n</table>\n</div>"
     },
     "metadata": {},
     "execution_count": 18
    }
   ],
   "source": [
    "board"
   ]
  },
  {
   "cell_type": "code",
   "execution_count": 19,
   "metadata": {},
   "outputs": [],
   "source": [
    "def leaderboard(*teams):\n",
    "    team_finder = Teams()\n",
    "    if len(teams) > 0:\n",
    "        teams = [team_finder(team_code(team)) for team in teams]\n",
    "    else:\n",
    "        teams = team_finder\n",
    "    teams = [team.dataframe[['name', 'rank', 'wins', 'losses', 'win_percentage', 'games_played']] for team in teams]\n",
    "    leaderboard = pd.concat(teams).rename(columns={'name': 'Team', 'rank': 'Rank', 'wins': 'Wins', 'losses': 'Losses', 'win_percentage': 'Win Pct', 'games_played': 'Games Played'})\n",
    "    return cprint_df(leaderboard)"
   ]
  },
  {
   "cell_type": "code",
   "execution_count": 21,
   "metadata": {},
   "outputs": [
    {
     "output_type": "stream",
     "name": "stdout",
     "text": [
      "```Team                      Rank  Wins  Losses  Win Pct  Games Played\nBaltimore Ravens          6     9     5       0.643    14          \nWashington Football Team  26    6     8       0.429    14          \nDallas Cowboys            18    5     9       0.357    14          ```\n"
     ]
    }
   ],
   "source": [
    "print(leaderboard('ravens', 'washington', 'cowboys'))"
   ]
  },
  {
   "cell_type": "code",
   "execution_count": 24,
   "metadata": {},
   "outputs": [
    {
     "output_type": "execute_result",
     "data": {
      "text/plain": [
       "[<sportsreference.nfl.teams.Team at 0x7fca501ac790>,\n",
       " <sportsreference.nfl.teams.Team at 0x7fca501b7be0>,\n",
       " <sportsreference.nfl.teams.Team at 0x7fca50333f40>,\n",
       " <sportsreference.nfl.teams.Team at 0x7fca501b7df0>,\n",
       " <sportsreference.nfl.teams.Team at 0x7fca501b7dc0>,\n",
       " <sportsreference.nfl.teams.Team at 0x7fca501b7f40>,\n",
       " <sportsreference.nfl.teams.Team at 0x7fca501b7c70>,\n",
       " <sportsreference.nfl.teams.Team at 0x7fca503047c0>,\n",
       " <sportsreference.nfl.teams.Team at 0x7fca50304670>,\n",
       " <sportsreference.nfl.teams.Team at 0x7fca50287c40>,\n",
       " <sportsreference.nfl.teams.Team at 0x7fca50287e20>,\n",
       " <sportsreference.nfl.teams.Team at 0x7fca50287ee0>,\n",
       " <sportsreference.nfl.teams.Team at 0x7fca50287f40>,\n",
       " <sportsreference.nfl.teams.Team at 0x7fca50287c10>,\n",
       " <sportsreference.nfl.teams.Team at 0x7fca5020fe50>,\n",
       " <sportsreference.nfl.teams.Team at 0x7fca5035b310>,\n",
       " <sportsreference.nfl.teams.Team at 0x7fca5035b3d0>,\n",
       " <sportsreference.nfl.teams.Team at 0x7fca4ffc3d30>,\n",
       " <sportsreference.nfl.teams.Team at 0x7fca50250400>,\n",
       " <sportsreference.nfl.teams.Team at 0x7fca50250040>,\n",
       " <sportsreference.nfl.teams.Team at 0x7fca4ffc3940>,\n",
       " <sportsreference.nfl.teams.Team at 0x7fca5035b820>,\n",
       " <sportsreference.nfl.teams.Team at 0x7fca5035b520>,\n",
       " <sportsreference.nfl.teams.Team at 0x7fca50250070>,\n",
       " <sportsreference.nfl.teams.Team at 0x7fca50250220>,\n",
       " <sportsreference.nfl.teams.Team at 0x7fca502501f0>,\n",
       " <sportsreference.nfl.teams.Team at 0x7fca5020f2e0>,\n",
       " <sportsreference.nfl.teams.Team at 0x7fca503338e0>,\n",
       " <sportsreference.nfl.teams.Team at 0x7fca50304220>,\n",
       " <sportsreference.nfl.teams.Team at 0x7fca50287b50>,\n",
       " <sportsreference.nfl.teams.Team at 0x7fca50287ca0>,\n",
       " <sportsreference.nfl.teams.Team at 0x7fca50287e50>]"
      ]
     },
     "metadata": {},
     "execution_count": 24
    }
   ],
   "source": [
    "teams = Teams()\n",
    "list(teams)"
   ]
  },
  {
   "cell_type": "code",
   "execution_count": null,
   "metadata": {},
   "outputs": [],
   "source": []
  }
 ]
}